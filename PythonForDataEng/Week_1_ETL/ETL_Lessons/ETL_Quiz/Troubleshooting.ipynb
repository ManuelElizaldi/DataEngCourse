{
 "cells": [
  {
   "cell_type": "code",
   "execution_count": 1,
   "metadata": {},
   "outputs": [],
   "source": [
    "# File types: CSV, Json, XML\n",
    "import glob \n",
    "import pandas as pd \n",
    "# This package helps us extract XML data\n",
    "import xml.etree.ElementTree as ET \n",
    "from datetime import datetime "
   ]
  },
  {
   "cell_type": "code",
   "execution_count": 22,
   "metadata": {},
   "outputs": [],
   "source": [
    "# This file will store the log\n",
    "log_file = \"log_file.txt\" \n",
    "\n",
    "# This file will store the data\n",
    "target_file = \"transformed_data.csv\" \n",
    "\n",
    "\n",
    "def extract_csv(filename):\n",
    "    df = pd.read_csv(filename, low_memory = False)\n",
    "    return df\n",
    "\n",
    "def extract_json(filename):\n",
    "    df = pd.read_json(filename, lines = True)\n",
    "    return df\n",
    "\n",
    "def extract_xml(filename):\n",
    "    df = pd.DataFrame(columns=['car_model','year_of_manufacture', 'price','fuel'])\n",
    "    tree = ET.parse(filename)\n",
    "    root = tree.getroot()\n",
    "    for car in root:\n",
    "        car_model = car.find('car_model').text\n",
    "        year_of_manufacture = car.find('year_of_manufacture').text\n",
    "        price = float(car.find('price').text)\n",
    "        fuel = car.find('fuel').text\n",
    "        df = pd.concat([df, pd.DataFrame([{'car_model':car_model, 'year_of_manufacture':year_of_manufacture, 'price':price, 'fuel':fuel}])])\n",
    "    \n",
    "    return df\n",
    "\n",
    "def extract():\n",
    "    extracted_data = pd.DataFrame(columns=['car_model', 'year_of_manufacture','price','fuel'])\n",
    "    \n",
    "    # process all csv files\n",
    "    for csvfile in glob.glob('*csv'):\n",
    "        extracted_data = pd.concat([extracted_data, pd.DataFrame(extract_csv(csvfile))], ignore_index = True)\n",
    "    \n",
    "    for jsonfile in glob.glob('*.json'):\n",
    "        extracted_data = pd.concat([extracted_data, pd.DataFrame(extract_json(jsonfile))], ignore_index = True)\n",
    "    \n",
    "    for xmlfile in glob.glob('*.xml'):\n",
    "        extracted_data = pd.concat([extracted_data, pd.DataFrame(extract_xml(xmlfile))], ignore_index = True)\n",
    "    \n",
    "    return extracted_data\n",
    "\n",
    "def transform(df):\n",
    "    df['price'] = round(df.price,2) \n",
    "    return df\n",
    "\n",
    "def load_data(target_file, clean_data):\n",
    "    clean_data.to_csv(target_file)\n",
    "    \n",
    "def log_progress(message):\n",
    "    timestamp_format = '%Y-%h-%d-%H:%M:%S'\n",
    "    now = datetime.now()\n",
    "    timestamp = now.strftime(timestamp_format)\n",
    "    with open(log_file, 'a') as f:\n",
    "        f.write(timestamp + ',' + message + '\\n')"
   ]
  },
  {
   "cell_type": "code",
   "execution_count": 19,
   "metadata": {},
   "outputs": [
    {
     "name": "stdout",
     "output_type": "stream",
     "text": [
      "ETL Job Started\n"
     ]
    }
   ],
   "source": [
    "# Log the initialization of the ETL process \n",
    "log_progress(\"ETL Job Started\") \n",
    "print(\"ETL Job Started\")"
   ]
  },
  {
   "cell_type": "code",
   "execution_count": 20,
   "metadata": {},
   "outputs": [
    {
     "name": "stdout",
     "output_type": "stream",
     "text": [
      "Extract phase Started\n"
     ]
    }
   ],
   "source": [
    "# Log the beginning of the Extraction process \n",
    "log_progress(\"Extract phase Started\") \n",
    "print(\"Extract phase Started\")\n",
    "extracted_data = extract() "
   ]
  },
  {
   "cell_type": "code",
   "execution_count": 23,
   "metadata": {},
   "outputs": [
    {
     "name": "stdout",
     "output_type": "stream",
     "text": [
      "Transformed Data\n",
      "        car_model year_of_manufacture     price    fuel\n",
      "0            ritz                2014   5000.00  Petrol\n",
      "1             sx4                2013   7089.55  Diesel\n",
      "2            ciaz                2017  10820.90  Petrol\n",
      "3         wagon r                2011   4253.73  Petrol\n",
      "4           swift                2014   6865.67  Diesel\n",
      "..            ...                 ...       ...     ...\n",
      "85          camry                2006   3731.34  Petrol\n",
      "86   land cruiser                2010  52238.81  Diesel\n",
      "87  corolla altis                2012   8805.97  Petrol\n",
      "88     etios liva                2013   5149.25  Petrol\n",
      "89        etios g                2014   7089.55  Petrol\n",
      "\n",
      "[90 rows x 4 columns]\n"
     ]
    }
   ],
   "source": [
    "# Log the beginning of the Transformation process \n",
    "log_progress(\"Transform phase Started\") \n",
    "transformed_data = transform(extracted_data) \n",
    "print(\"Transformed Data\") \n",
    "print(transformed_data) "
   ]
  },
  {
   "cell_type": "code",
   "execution_count": 25,
   "metadata": {},
   "outputs": [],
   "source": [
    "# Log the completion of the Transformation process \n",
    "log_progress(\"Transform phase Ended\") \n",
    " \n",
    "# Log the beginning of the Loading process \n",
    "log_progress(\"Load phase Started\") \n",
    "load_data(target_file,transformed_data) \n",
    " \n",
    "# Log the completion of the Loading process \n",
    "log_progress(\"Load phase Ended\") \n",
    " \n",
    "# Log the completion of the ETL process \n",
    "log_progress(\"ETL Job Ended\") "
   ]
  },
  {
   "cell_type": "code",
   "execution_count": null,
   "metadata": {},
   "outputs": [],
   "source": []
  }
 ],
 "metadata": {
  "kernelspec": {
   "display_name": "base",
   "language": "python",
   "name": "python3"
  },
  "language_info": {
   "codemirror_mode": {
    "name": "ipython",
    "version": 3
   },
   "file_extension": ".py",
   "mimetype": "text/x-python",
   "name": "python",
   "nbconvert_exporter": "python",
   "pygments_lexer": "ipython3",
   "version": "3.8.5"
  }
 },
 "nbformat": 4,
 "nbformat_minor": 2
}
